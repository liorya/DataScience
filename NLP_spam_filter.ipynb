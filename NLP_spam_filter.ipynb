{
  "nbformat": 4,
  "nbformat_minor": 0,
  "metadata": {
    "colab": {
      "name": "NLP_spam_filter.ipynb",
      "version": "0.3.2",
      "provenance": [],
      "collapsed_sections": []
    },
    "kernelspec": {
      "name": "python3",
      "display_name": "Python 3"
    }
  },
  "cells": [
    {
      "cell_type": "code",
      "metadata": {
        "id": "BlB62YjeLlZz",
        "colab_type": "code",
        "colab": {}
      },
      "source": [
        "import nltk\n",
        "\n",
        "'''\n",
        "type 'd' for downloading\n",
        "then type 'all' to download all\n",
        "'''\n",
        "nltk.download()"
      ],
      "execution_count": 0,
      "outputs": []
    },
    {
      "cell_type": "code",
      "metadata": {
        "id": "hItOpTDRNUNE",
        "colab_type": "code",
        "colab": {}
      },
      "source": [
        "from nltk.corpus import words, stopwords\n",
        "from nltk.tokenize import RegexpTokenizer\n",
        "from nltk.stem import WordNetLemmatizer\n",
        "from nltk import pos_tag\n",
        "from sklearn.feature_extraction.text import TfidfVectorizer\n",
        "\n",
        "import pandas as pd\n",
        "import numpy as np\n",
        "import seaborn as sns\n",
        "import matplotlib.pyplot as plt\n",
        "\n",
        "import email\n",
        "from os import listdir\n",
        "from sklearn.pipeline import make_pipeline\n",
        "from sklearn.naive_bayes import MultinomialNB\n",
        "from sklearn.model_selection import GridSearchCV\n",
        "from sklearn.metrics import confusion_matrix"
      ],
      "execution_count": 0,
      "outputs": []
    },
    {
      "cell_type": "code",
      "metadata": {
        "id": "JlaHzdzkSQcL",
        "colab_type": "code",
        "colab": {}
      },
      "source": [
        "def get_wordnet_pos(treebank_tag):\n",
        "  if treebank_tag.startswith('J'):\n",
        "    return 'a'\n",
        "  elif treebank_tag.startswith('V'):\n",
        "    return 'v'\n",
        "  elif treebank_tag.startswith('R'):\n",
        "    return 'r'\n",
        "  else:\n",
        "    return 'n' # Return the default\n",
        "      \n",
        "\n",
        "def preprocess_text(txt):\n",
        "  # tokenize and remove special chars\n",
        "  tokenizer = RegexpTokenizer(r'\\w+')\n",
        "  tokens = tokenizer.tokenize(txt)\n",
        "  \n",
        "  # lowercase\n",
        "  tokens = [w.lower() for w in tokens]\n",
        "  \n",
        "  # remove stopwords\n",
        "  stop_words = stopwords.words('english')\n",
        "  tokens = [w for w in tokens if w not in stop_words]\n",
        "  \n",
        "  # lemmatizing\n",
        "  tags = dict(pos_tag(tokens))\n",
        "  lemmatizer = WordNetLemmatizer()\n",
        "  return [lemmatizer.lemmatize(w, get_wordnet_pos(tags[w])) for w in tokens]\n",
        "\n",
        "\n",
        "def read_emails(path):\n",
        "  dirs = listdir(path)\n",
        "  msg = []\n",
        "\n",
        "  for file in dirs:\n",
        "    with open(path + '/' + file, 'rb') as f:        \n",
        "      msg.append(email.message_from_bytes(f.read()))\n",
        "  return msg\n",
        "\n",
        "\n",
        "def get_mail_df(msg_vec, features=['From', 'Subject']):\n",
        "  df = pd.DataFrame([[val for h, val in mail.items() if h in features] for mail in msg_vec],\n",
        "                    columns=features)\n",
        "  df['Body'] = [mail.get_payload() for mail in msg_vec]\n",
        "  return df"
      ],
      "execution_count": 0,
      "outputs": []
    },
    {
      "cell_type": "code",
      "metadata": {
        "id": "ljWZwDJd_G1X",
        "colab_type": "code",
        "outputId": "7f04aa5a-5ea3-40fd-e3bc-fae79b3798fb",
        "colab": {
          "base_uri": "https://localhost:8080/",
          "height": 198
        }
      },
      "source": [
        "SPAM_PATH = '/gdrive/My Drive/spam'\n",
        "HAM_PATH = '/gdrive/My Drive/easy_ham'\n",
        "\n",
        "spam_msg = read_emails(SPAM_PATH)\n",
        "ham_msg = read_emails(HAM_PATH)\n",
        "spam_size, ham_size = len(spam_msg), len(ham_msg)\n",
        "y = np.concatenate([np.ones(spam_size), np.zeros(ham_size)])\n",
        "\n",
        "df = get_mail_df(spam_msg).append(get_mail_df(ham_msg))\n",
        "df.head()"
      ],
      "execution_count": 0,
      "outputs": [
        {
          "output_type": "execute_result",
          "data": {
            "text/html": [
              "<div>\n",
              "<style scoped>\n",
              "    .dataframe tbody tr th:only-of-type {\n",
              "        vertical-align: middle;\n",
              "    }\n",
              "\n",
              "    .dataframe tbody tr th {\n",
              "        vertical-align: top;\n",
              "    }\n",
              "\n",
              "    .dataframe thead th {\n",
              "        text-align: right;\n",
              "    }\n",
              "</style>\n",
              "<table border=\"1\" class=\"dataframe\">\n",
              "  <thead>\n",
              "    <tr style=\"text-align: right;\">\n",
              "      <th></th>\n",
              "      <th>From</th>\n",
              "      <th>Subject</th>\n",
              "      <th>Body</th>\n",
              "    </tr>\n",
              "  </thead>\n",
              "  <tbody>\n",
              "    <tr>\n",
              "      <th>0</th>\n",
              "      <td>12a1mailbot1@web.de</td>\n",
              "      <td>Life Insurance - Why Pay More?</td>\n",
              "      <td>&lt;!DOCTYPE HTML PUBLIC \"-//W3C//DTD HTML 4.0 Tr...</td>\n",
              "    </tr>\n",
              "    <tr>\n",
              "      <th>1</th>\n",
              "      <td>\"Slim n Trim\" &lt;yenene@mx2.1premio.com&gt;</td>\n",
              "      <td>[ILUG-Social] re: Guaranteed to lose 10-12 lbs...</td>\n",
              "      <td>I thought you might like these:\\n1) Slim Down ...</td>\n",
              "    </tr>\n",
              "    <tr>\n",
              "      <th>2</th>\n",
              "      <td>Account Services &lt;wsup@playful.com&gt;</td>\n",
              "      <td>Re: Fw: User Name &amp; Password to Membership To ...</td>\n",
              "      <td>##############################################...</td>\n",
              "    </tr>\n",
              "    <tr>\n",
              "      <th>3</th>\n",
              "      <td>Great Offers &lt;greatoffers@sendgreatoffers.com&gt;</td>\n",
              "      <td>Is Your Family Protected?</td>\n",
              "      <td>&lt;html&gt;\\n&lt;head&gt;\\n&lt;title&gt;ReliaQuote - Save Up To...</td>\n",
              "    </tr>\n",
              "    <tr>\n",
              "      <th>4</th>\n",
              "      <td>\"Slim Down\" &lt;taylor@s3.serveimage.com&gt;</td>\n",
              "      <td>[ILUG] Guaranteed to lose 10-12 lbs in 30 days...</td>\n",
              "      <td>1) Fight The Risk of Cancer!\\nhttp://www.adcli...</td>\n",
              "    </tr>\n",
              "  </tbody>\n",
              "</table>\n",
              "</div>"
            ],
            "text/plain": [
              "                                             From  ...                                               Body\n",
              "0                             12a1mailbot1@web.de  ...  <!DOCTYPE HTML PUBLIC \"-//W3C//DTD HTML 4.0 Tr...\n",
              "1          \"Slim n Trim\" <yenene@mx2.1premio.com>  ...  I thought you might like these:\\n1) Slim Down ...\n",
              "2             Account Services <wsup@playful.com>  ...  ##############################################...\n",
              "3  Great Offers <greatoffers@sendgreatoffers.com>  ...  <html>\\n<head>\\n<title>ReliaQuote - Save Up To...\n",
              "4          \"Slim Down\" <taylor@s3.serveimage.com>  ...  1) Fight The Risk of Cancer!\\nhttp://www.adcli...\n",
              "\n",
              "[5 rows x 3 columns]"
            ]
          },
          "metadata": {
            "tags": []
          },
          "execution_count": 18
        }
      ]
    },
    {
      "cell_type": "code",
      "metadata": {
        "id": "VH-uekL1_yBQ",
        "colab_type": "code",
        "colab": {}
      },
      "source": [
        "# clean\n",
        "df['Body'] = df['Body'].map(lambda text: ' '.join(preprocess_text(str(text))))"
      ],
      "execution_count": 0,
      "outputs": []
    },
    {
      "cell_type": "code",
      "metadata": {
        "id": "vfIvrixKGe8r",
        "colab_type": "code",
        "colab": {}
      },
      "source": [
        "# split to train & test\n",
        "p = np.random.permutation(len(y))\n",
        "split_size = 0.2\n",
        "t = int((1 - split_size) * len(p))\n",
        "train_idx, test_idx = p[:t], p[t:]\n",
        "\n",
        "X_train, X_test = df.iloc[train_idx, :], df.iloc[test_idx, :]\n",
        "y_train, y_test = y[train_idx], y[test_idx]"
      ],
      "execution_count": 0,
      "outputs": []
    },
    {
      "cell_type": "code",
      "metadata": {
        "id": "Ac5QFRP1G9ql",
        "colab_type": "code",
        "colab": {}
      },
      "source": [
        "# data preparation and classification\n",
        "clf_pipe = make_pipeline(TfidfVectorizer(), MultinomialNB())\n",
        "\n",
        "params = {'multinomialnb__alpha': np.linspace(1e-10, 5, num=10)}\n",
        "grid_search = GridSearchCV(clf_pipe, params, cv=3)\n",
        "grid_search.fit(X_train['Body'], y_train);"
      ],
      "execution_count": 0,
      "outputs": []
    },
    {
      "cell_type": "code",
      "metadata": {
        "id": "K_cxo6xTMH_A",
        "colab_type": "code",
        "outputId": "8df89b28-7e20-47d6-9ff6-7689fdb61da8",
        "colab": {
          "base_uri": "https://localhost:8080/",
          "height": 35
        }
      },
      "source": [
        "grid_search.score(X_test['Body'], y_test)"
      ],
      "execution_count": 0,
      "outputs": [
        {
          "output_type": "execute_result",
          "data": {
            "text/plain": [
              "0.9533333333333334"
            ]
          },
          "metadata": {
            "tags": []
          },
          "execution_count": 23
        }
      ]
    },
    {
      "cell_type": "code",
      "metadata": {
        "id": "z_C1Bl_ANinL",
        "colab_type": "code",
        "colab": {
          "base_uri": "https://localhost:8080/",
          "height": 295
        },
        "outputId": "87c0a615-d6a5-4b04-91bd-41feddd2d95e"
      },
      "source": [
        "y_pred = grid_search.predict(X_test['Body'])\n",
        "conf_mat = confusion_matrix(y_test, y_pred)\n",
        "\n",
        "sns.heatmap(conf_mat, square=True, annot=True, \n",
        "            cmap='Blues', fmt='d', cbar=False)\n",
        "plt.title('Confusion Matrix')\n",
        "plt.xlabel('Predicted labels');\n",
        "plt.ylabel('True labels');"
      ],
      "execution_count": 5,
      "outputs": [
        {
          "output_type": "display_data",
          "data": {
            "image/png": "[encoded data removed]",
            "text/plain": [
              "<Figure size 432x288 with 1 Axes>"
            ]
          },
          "metadata": {
            "tags": []
          }
        }
      ]
    },
    {
      "cell_type": "code",
      "metadata": {
        "id": "55AYvno8SLF1",
        "colab_type": "code",
        "colab": {
          "base_uri": "https://localhost:8080/",
          "height": 35
        },
        "outputId": "cb51acbe-990b-4900-d1a6-18db16cddf79"
      },
      "source": [
        "'''\n",
        "The dataset is imbalanced - spam mails are less than 20%\n",
        "therefore accuracy alone is not enough.\n",
        "Better evaluation can be done with precision and recall.\n",
        "False positive is the \"expensive\" case, where ham mails are predicted as spam,\n",
        "so precision is more important.\n",
        "'''\n",
        "\n",
        "true_positive = conf_mat[1, 1]\n",
        "false_positive = conf_mat[0, 1]\n",
        "false_negative = conf_mat[1, 0]\n",
        "\n",
        "precision = true_positive / (true_positive + false_positive)\n",
        "recall = true_positive / (true_positive + false_negative)\n",
        "print(f'precision: {precision}, recall: {recall}')"
      ],
      "execution_count": 7,
      "outputs": [
        {
          "output_type": "stream",
          "text": [
            "precision: 0.8285714285714286, recall: 0.8969072164948454\n"
          ],
          "name": "stdout"
        }
      ]
    }
  ]
}