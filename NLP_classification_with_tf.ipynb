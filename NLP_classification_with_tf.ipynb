{
  "nbformat": 4,
  "nbformat_minor": 0,
  "metadata": {
    "colab": {
      "name": "Copy of NLP_classification_with_tf.ipynb",
      "version": "0.3.2",
      "provenance": [],
      "collapsed_sections": []
    },
    "kernelspec": {
      "name": "python3",
      "display_name": "Python 3"
    },
    "accelerator": "GPU"
  },
  "cells": [
    {
      "cell_type": "code",
      "metadata": {
        "id": "mnaI3eu2z7MN",
        "colab_type": "code",
        "colab": {}
      },
      "source": [
        "import numpy as np\n",
        "from re import sub\n",
        "import pandas as pd\n",
        "import seaborn as sns\n",
        "import matplotlib.pyplot as plt\n",
        "\n",
        "import tensorflow as tf\n",
        "import tensorflow_hub as hub\n",
        "from tensorflow.keras import layers, models, utils, Sequential\n",
        "\n",
        "from sklearn.utils import class_weight\n",
        "from sklearn.metrics import confusion_matrix"
      ],
      "execution_count": 0,
      "outputs": []
    },
    {
      "cell_type": "code",
      "metadata": {
        "id": "22JRNmXZd2LC",
        "colab_type": "code",
        "colab": {}
      },
      "source": [
        "tf.reset_default_graph()\n",
        "tf.set_random_seed(42)"
      ],
      "execution_count": 0,
      "outputs": []
    },
    {
      "cell_type": "code",
      "metadata": {
        "id": "D1xoX148m5EA",
        "colab_type": "code",
        "colab": {}
      },
      "source": [
        "module_url = \"https://tfhub.dev/google/universal-sentence-encoder-large/3\"\n",
        "\n",
        "# Import the Universal Sentence Encoder's TF Hub module\n",
        "embed = hub.Module(module_url)\n",
        "\n",
        "embedding_size = 512\n",
        "batch_size = 32\n",
        "n_hidden_layer = 256\n",
        "dropout_rate = 0.4\n",
        "n_epochs = 10\n",
        "learning_rate = 0.001\n",
        "val_rate = 0.15"
      ],
      "execution_count": 0,
      "outputs": []
    },
    {
      "cell_type": "code",
      "metadata": {
        "id": "jZ1VdHgv2rqy",
        "colab_type": "code",
        "colab": {}
      },
      "source": [
        "# train dataset source:\n",
        "# https://cogcomp.seas.upenn.edu/Data/QA/QC/train_5500.label\n",
        "TRAIN_PATH = '../gdrive/My Drive/train_5500.txt'\n",
        "\n",
        "# test dataset source:\n",
        "# https://cogcomp.seas.upenn.edu/Data/QA/QC/TREC_10.label\n",
        "TEST_PATH = '../gdrive/My Drive/test_10.txt'"
      ],
      "execution_count": 0,
      "outputs": []
    },
    {
      "cell_type": "code",
      "metadata": {
        "id": "6qNrOI6LbrwJ",
        "colab_type": "code",
        "colab": {}
      },
      "source": [
        "def universal_sentence_encoder(text):\n",
        "  # Use universal sentence encoder in NN\n",
        "  text_as_str = tf.squeeze(tf.cast(text, tf.string), axis=[1])\n",
        "  return embed(text_as_str, signature=\"default\", as_dict=True)[\"default\"]\n",
        "\n",
        "\n",
        "def create_model():\n",
        "  return Sequential([\n",
        "    layers.Input(shape=(1,), dtype=tf.string),\n",
        "    layers.Lambda(universal_sentence_encoder, output_shape=(embedding_size,)),\n",
        "    layers.Dense(n_hidden_layer, activation='relu'),\n",
        "    layers.BatchNormalization(),\n",
        "    layers.Dropout(dropout_rate),\n",
        "    layers.Dense(n_classes, activation='softmax')\n",
        "  ])\n",
        "\n",
        "\n",
        "def get_dataset(file_path):\n",
        "  '''\n",
        "  Args: data file path\n",
        "  Returns: data frame of the data set,\n",
        "           array of the data,\n",
        "           array of one-hot-encoded labels,\n",
        "           one-hot-encoded labels' columns' names\n",
        "  '''\n",
        "  with open(file_path, 'r', encoding='ISO-8859-1') as fp:\n",
        "    line = fp.readline()\n",
        "    data = []    \n",
        "    while line:\n",
        "      label = line.split(\":\")[0]\n",
        "      text = line.split(' ', 1)[1]\n",
        "      text = sub('[^A-Za-z0-9 ,\\?\\'\\\"-._\\+\\!/\\`@=;:]+', '', text)\n",
        "      data.append([label, text])\n",
        "      line = fp.readline()\n",
        "\n",
        "  df = pd.DataFrame(data, columns=['label', 'text'])\n",
        "  df.label = df.label.astype('category')\n",
        "  one_hot = pd.get_dummies(df.label])\n",
        "  return df, df['text'].values[:, np.newaxis], one_hot.values, one_hot.columns.tolist()"
      ],
      "execution_count": 0,
      "outputs": []
    },
    {
      "cell_type": "code",
      "metadata": {
        "id": "c6_dGO7eOZCk",
        "colab_type": "code",
        "outputId": "ab886c32-8368-49dc-d1d8-ec2512908df6",
        "colab": {
          "base_uri": "https://localhost:8080/",
          "height": 202
        }
      },
      "source": [
        "df_train, X_train, one_hot_train, classes = get_dataset(TRAIN_PATH)\n",
        "y_train = df_train.label\n",
        "df_train.head()"
      ],
      "execution_count": 0,
      "outputs": [
        {
          "output_type": "execute_result",
          "data": {
            "text/html": [
              "<div>\n",
              "<style scoped>\n",
              "    .dataframe tbody tr th:only-of-type {\n",
              "        vertical-align: middle;\n",
              "    }\n",
              "\n",
              "    .dataframe tbody tr th {\n",
              "        vertical-align: top;\n",
              "    }\n",
              "\n",
              "    .dataframe thead th {\n",
              "        text-align: right;\n",
              "    }\n",
              "</style>\n",
              "<table border=\"1\" class=\"dataframe\">\n",
              "  <thead>\n",
              "    <tr style=\"text-align: right;\">\n",
              "      <th></th>\n",
              "      <th>label</th>\n",
              "      <th>text</th>\n",
              "    </tr>\n",
              "  </thead>\n",
              "  <tbody>\n",
              "    <tr>\n",
              "      <th>0</th>\n",
              "      <td>DESC</td>\n",
              "      <td>How did serfdom develop in and then leave Russ...</td>\n",
              "    </tr>\n",
              "    <tr>\n",
              "      <th>1</th>\n",
              "      <td>ENTY</td>\n",
              "      <td>What films featured the character Popeye Doyle ?</td>\n",
              "    </tr>\n",
              "    <tr>\n",
              "      <th>2</th>\n",
              "      <td>DESC</td>\n",
              "      <td>How can I find a list of celebrities ' real na...</td>\n",
              "    </tr>\n",
              "    <tr>\n",
              "      <th>3</th>\n",
              "      <td>ENTY</td>\n",
              "      <td>What fowl grabs the spotlight after the Chines...</td>\n",
              "    </tr>\n",
              "    <tr>\n",
              "      <th>4</th>\n",
              "      <td>ABBR</td>\n",
              "      <td>What is the full form of .com ?</td>\n",
              "    </tr>\n",
              "  </tbody>\n",
              "</table>\n",
              "</div>"
            ],
            "text/plain": [
              "  label                                               text\n",
              "0  DESC  How did serfdom develop in and then leave Russ...\n",
              "1  ENTY   What films featured the character Popeye Doyle ?\n",
              "2  DESC  How can I find a list of celebrities ' real na...\n",
              "3  ENTY  What fowl grabs the spotlight after the Chines...\n",
              "4  ABBR                    What is the full form of .com ?"
            ]
          },
          "metadata": {
            "tags": []
          },
          "execution_count": 15
        }
      ]
    },
    {
      "cell_type": "code",
      "metadata": {
        "id": "EO9C9ybq33lq",
        "colab_type": "code",
        "outputId": "69e7f9cd-e925-4a8b-ad14-bc1cc4e3757d",
        "colab": {
          "base_uri": "https://localhost:8080/",
          "height": 202
        }
      },
      "source": [
        "df_test, X_test, one_hot_test, _ = get_dataset(TEST_PATH)\n",
        "df_test.head()"
      ],
      "execution_count": 0,
      "outputs": [
        {
          "output_type": "execute_result",
          "data": {
            "text/html": [
              "<div>\n",
              "<style scoped>\n",
              "    .dataframe tbody tr th:only-of-type {\n",
              "        vertical-align: middle;\n",
              "    }\n",
              "\n",
              "    .dataframe tbody tr th {\n",
              "        vertical-align: top;\n",
              "    }\n",
              "\n",
              "    .dataframe thead th {\n",
              "        text-align: right;\n",
              "    }\n",
              "</style>\n",
              "<table border=\"1\" class=\"dataframe\">\n",
              "  <thead>\n",
              "    <tr style=\"text-align: right;\">\n",
              "      <th></th>\n",
              "      <th>label</th>\n",
              "      <th>text</th>\n",
              "    </tr>\n",
              "  </thead>\n",
              "  <tbody>\n",
              "    <tr>\n",
              "      <th>0</th>\n",
              "      <td>NUM</td>\n",
              "      <td>How far is it from Denver to Aspen ?</td>\n",
              "    </tr>\n",
              "    <tr>\n",
              "      <th>1</th>\n",
              "      <td>LOC</td>\n",
              "      <td>What county is Modesto , California in ?</td>\n",
              "    </tr>\n",
              "    <tr>\n",
              "      <th>2</th>\n",
              "      <td>HUM</td>\n",
              "      <td>Who was Galileo ?</td>\n",
              "    </tr>\n",
              "    <tr>\n",
              "      <th>3</th>\n",
              "      <td>DESC</td>\n",
              "      <td>What is an atom ?</td>\n",
              "    </tr>\n",
              "    <tr>\n",
              "      <th>4</th>\n",
              "      <td>NUM</td>\n",
              "      <td>When did Hawaii become a state ?</td>\n",
              "    </tr>\n",
              "  </tbody>\n",
              "</table>\n",
              "</div>"
            ],
            "text/plain": [
              "  label                                      text\n",
              "0   NUM      How far is it from Denver to Aspen ?\n",
              "1   LOC  What county is Modesto , California in ?\n",
              "2   HUM                         Who was Galileo ?\n",
              "3  DESC                         What is an atom ?\n",
              "4   NUM          When did Hawaii become a state ?"
            ]
          },
          "metadata": {
            "tags": []
          },
          "execution_count": 8
        }
      ]
    },
    {
      "cell_type": "code",
      "metadata": {
        "id": "XO29Pu7n0T0E",
        "colab_type": "code",
        "outputId": "6f2b6f9e-9660-4197-c11f-25d320dc155f",
        "colab": {
          "base_uri": "https://localhost:8080/",
          "height": 156
        }
      },
      "source": [
        "print(\"Classes' counts:\")\n",
        "y_train.value_counts()"
      ],
      "execution_count": 0,
      "outputs": [
        {
          "output_type": "stream",
          "text": [
            "Classes' counts:\n"
          ],
          "name": "stdout"
        },
        {
          "output_type": "execute_result",
          "data": {
            "text/plain": [
              "ENTY    1250\n",
              "HUM     1223\n",
              "DESC    1162\n",
              "NUM      896\n",
              "LOC      835\n",
              "ABBR      86\n",
              "Name: label, dtype: int64"
            ]
          },
          "metadata": {
            "tags": []
          },
          "execution_count": 9
        }
      ]
    },
    {
      "cell_type": "code",
      "metadata": {
        "id": "H-oQXFGfOuzx",
        "colab_type": "code",
        "outputId": "8b6ff46d-6c01-409e-9773-ca7bf65d47e6",
        "colab": {
          "base_uri": "https://localhost:8080/",
          "height": 139
        }
      },
      "source": [
        "'''\n",
        "As seen above, the dataset is skewed.\n",
        "Therefore each class is given a weight where the weight is in inverse ratio to \n",
        "the class's size.\n",
        "Hence, smaller classes have larger weights.\n",
        "'''\n",
        "n_classes = len(classes)\n",
        "weights = class_weight.compute_class_weight('balanced', \n",
        "                                            classes,\n",
        "                                            y_train)\n",
        "weights_dict = zip(classes, weights)\n",
        "print(\"Classes' weights:\", *weights_dict, sep='\\n')"
      ],
      "execution_count": 0,
      "outputs": [
        {
          "output_type": "stream",
          "text": [
            "Classes' weights:\n",
            "('ABBR', 10.565891472868216)\n",
            "('DESC', 0.7819850831899025)\n",
            "('ENTY', 0.7269333333333333)\n",
            "('HUM', 0.7429817388934314)\n",
            "('LOC', 1.0882235528942117)\n",
            "('NUM', 1.0141369047619047)\n"
          ],
          "name": "stdout"
        }
      ]
    },
    {
      "cell_type": "code",
      "metadata": {
        "id": "iTghT-_wutaK",
        "colab_type": "code",
        "outputId": "43bbf17c-9b96-4af4-c3f9-a7aca04148e8",
        "colab": {
          "base_uri": "https://localhost:8080/",
          "height": 419
        }
      },
      "source": [
        "callbacks = [tf.keras.callbacks.EarlyStopping(monitor='val_loss', patience=3)]\n",
        "metrics = ['categorical_accuracy', 'top_k_categorical_accuracy']\n",
        "\n",
        "model = create_model()\n",
        "\n",
        "model.compile(loss='categorical_crossentropy', \n",
        "              optimizer=tf.train.RMSPropOptimizer(learning_rate), \n",
        "              metrics=metrics)\n",
        "\n",
        "with tf.Session() as session:\n",
        "  session.run([tf.global_variables_initializer(), tf.tables_initializer()])\n",
        "  model.fit(X_train, \n",
        "            one_hot_train,\n",
        "            validation_split=val_rate,\n",
        "            epochs=n_epochs,\n",
        "            batch_size=batch_size,\n",
        "            class_weight=weights_dict,\n",
        "            callbacks=callbacks)\n",
        "  model.save_weights('./model.h5')"
      ],
      "execution_count": 0,
      "outputs": [
        {
          "output_type": "stream",
          "text": [
            "WARNING: Logging before flag parsing goes to stderr.\n",
            "W0818 13:53:37.230003 140215775754112 deprecation.py:506] From /usr/local/lib/python3.6/dist-packages/tensorflow/python/ops/init_ops.py:1251: calling VarianceScaling.__init__ (from tensorflow.python.ops.init_ops) with dtype is deprecated and will be removed in a future version.\n",
            "Instructions for updating:\n",
            "Call initializer instance with the dtype argument instead of passing it to the constructor\n",
            "W0818 13:53:41.133732 140215775754112 deprecation.py:506] From /usr/local/lib/python3.6/dist-packages/tensorflow/python/training/rmsprop.py:119: calling Ones.__init__ (from tensorflow.python.ops.init_ops) with dtype is deprecated and will be removed in a future version.\n",
            "Instructions for updating:\n",
            "Call initializer instance with the dtype argument instead of passing it to the constructor\n"
          ],
          "name": "stderr"
        },
        {
          "output_type": "stream",
          "text": [
            "Train on 4634 samples, validate on 818 samples\n",
            "Epoch 1/10\n",
            "4634/4634 [==============================] - 6s 1ms/sample - loss: 1.0384 - categorical_accuracy: 0.6139 - top_k_categorical_accuracy: 0.9691 - val_loss: 1.3384 - val_categorical_accuracy: 0.5660 - val_top_k_categorical_accuracy: 0.9988\n",
            "Epoch 2/10\n",
            "4634/4634 [==============================] - 4s 779us/sample - loss: 0.3768 - categorical_accuracy: 0.8789 - top_k_categorical_accuracy: 0.9985 - val_loss: 0.8265 - val_categorical_accuracy: 0.8533 - val_top_k_categorical_accuracy: 1.0000\n",
            "Epoch 3/10\n",
            "4634/4634 [==============================] - 4s 780us/sample - loss: 0.2875 - categorical_accuracy: 0.9027 - top_k_categorical_accuracy: 0.9991 - val_loss: 0.4247 - val_categorical_accuracy: 0.8973 - val_top_k_categorical_accuracy: 1.0000\n",
            "Epoch 4/10\n",
            "4634/4634 [==============================] - 4s 794us/sample - loss: 0.2428 - categorical_accuracy: 0.9180 - top_k_categorical_accuracy: 1.0000 - val_loss: 0.2688 - val_categorical_accuracy: 0.9132 - val_top_k_categorical_accuracy: 1.0000\n",
            "Epoch 5/10\n",
            "4634/4634 [==============================] - 4s 793us/sample - loss: 0.2053 - categorical_accuracy: 0.9290 - top_k_categorical_accuracy: 1.0000 - val_loss: 0.2905 - val_categorical_accuracy: 0.9034 - val_top_k_categorical_accuracy: 1.0000\n",
            "Epoch 6/10\n",
            "4634/4634 [==============================] - 4s 812us/sample - loss: 0.1911 - categorical_accuracy: 0.9322 - top_k_categorical_accuracy: 1.0000 - val_loss: 0.2830 - val_categorical_accuracy: 0.9071 - val_top_k_categorical_accuracy: 1.0000\n",
            "Epoch 7/10\n",
            "4634/4634 [==============================] - 4s 806us/sample - loss: 0.1557 - categorical_accuracy: 0.9463 - top_k_categorical_accuracy: 0.9998 - val_loss: 0.3109 - val_categorical_accuracy: 0.9034 - val_top_k_categorical_accuracy: 1.0000\n"
          ],
          "name": "stdout"
        }
      ]
    },
    {
      "cell_type": "code",
      "metadata": {
        "id": "dUyQIKF2_I7C",
        "colab_type": "code",
        "outputId": "efd18ab5-0a29-475f-f2fc-f4aec92290d2",
        "colab": {
          "base_uri": "https://localhost:8080/",
          "height": 280
        }
      },
      "source": [
        "with tf.Session() as session:\n",
        "  session.run([tf.global_variables_initializer(), tf.tables_initializer()])\n",
        "  model.load_weights('./model.h5')  \n",
        "  one_hot_pred = model.predict(X_test, batch_size=batch_size)\n",
        "  evals = model.evaluate(X_test, one_hot_test)\n",
        "  \n",
        "  for name, val in zip(model.metrics_names, evals):\n",
        "    print(f'{name}: {val:0.3f}')"
      ],
      "execution_count": 0,
      "outputs": [
        {
          "output_type": "stream",
          "text": [
            "Exception ignored in: <bound method BaseSession._Callable.__del__ of <tensorflow.python.client.session.BaseSession._Callable object at 0x7f85d6192f98>>\n",
            "Traceback (most recent call last):\n",
            "  File \"/usr/local/lib/python3.6/dist-packages/tensorflow/python/client/session.py\", line 1473, in __del__\n",
            "    self._session._session, self._handle)\n",
            "tensorflow.python.framework.errors_impl.CancelledError: (None, None, 'Session has been closed.')\n"
          ],
          "name": "stderr"
        },
        {
          "output_type": "stream",
          "text": [
            "192/500 [==========>...................] - ETA: 1s - loss: 0.1992 - categorical_accuracy: 0.9323 - top_k_categorical_accuracy: 1.0000"
          ],
          "name": "stdout"
        },
        {
          "output_type": "stream",
          "text": [
            "Exception ignored in: <bound method BaseSession._Callable.__del__ of <tensorflow.python.client.session.BaseSession._Callable object at 0x7f85d6192b70>>\n",
            "Traceback (most recent call last):\n",
            "  File \"/usr/local/lib/python3.6/dist-packages/tensorflow/python/client/session.py\", line 1473, in __del__\n",
            "    self._session._session, self._handle)\n",
            "tensorflow.python.framework.errors_impl.CancelledError: (None, None, 'Session has been closed.')\n"
          ],
          "name": "stderr"
        },
        {
          "output_type": "stream",
          "text": [
            "500/500 [==============================] - 1s 2ms/sample - loss: 0.1981 - categorical_accuracy: 0.9420 - top_k_categorical_accuracy: 1.0000\n",
            "loss: 0.198\n",
            "categorical_accuracy: 0.942\n",
            "top_k_categorical_accuracy: 1.000\n"
          ],
          "name": "stdout"
        }
      ]
    },
    {
      "cell_type": "code",
      "metadata": {
        "id": "5pa7cGhudga3",
        "colab_type": "code",
        "outputId": "0cb6731f-57af-459e-d4ea-25016029983b",
        "colab": {
          "base_uri": "https://localhost:8080/",
          "height": 422
        }
      },
      "source": [
        "# confusion matrix\n",
        "y_pred = one_hot_pred.argmax(axis=1)\n",
        "y_pred_cat = [classes[logit] for logit in y_pred]\n",
        "conf_mat = confusion_matrix(df_test.label, y_pred_cat, labels=classes)\n",
        "\n",
        "plt.figure(figsize=(6, 6))\n",
        "sns.heatmap(conf_mat, square=True, annot=True, \n",
        "            cmap='Blues', fmt='d', cbar=False)\n",
        "plt.title('Confusion Matrix')\n",
        "plt.xlabel('Predicted labels');\n",
        "plt.ylabel('True labels');\n",
        "\n",
        "for i, cat in enumerate(classes):\n",
        "  print(f'{i}: {cat}', end=', ')"
      ],
      "execution_count": 0,
      "outputs": [
        {
          "output_type": "stream",
          "text": [
            "0: ABBR, 1: DESC, 2: ENTY, 3: HUM, 4: LOC, 5: NUM, "
          ],
          "name": "stdout"
        },
        {
          "output_type": "display_data",
          "data": {
            "image/png": "[encoded data removed]",
            "text/plain": [
              "<Figure size 432x432 with 1 Axes>"
            ]
          },
          "metadata": {
            "tags": []
          }
        }
      ]
    }
  ]
}
